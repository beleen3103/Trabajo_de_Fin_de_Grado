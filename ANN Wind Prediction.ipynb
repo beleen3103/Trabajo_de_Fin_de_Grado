{
 "cells": [
  {
   "cell_type": "markdown",
   "id": "57c39b7c",
   "metadata": {},
   "source": [
    "# ANN Wind Prediction"
   ]
  },
  {
   "cell_type": "markdown",
   "id": "510f5b8c",
   "metadata": {},
   "source": [
    "Paper: https://doi.org/10.1016/j.egypro.2016.12.147\n",
    "\n",
    "Time interval: short term (20 seconds)\n",
    "\n",
    "Method used: Multivariable based ANN. \n",
    "\n",
    "Data used: https://www.kaggle.com/depekha/wind-turbine-scada-dataset/data\n",
    "\n",
    "Multiple local meteorological meassurements:\n",
    " - wind speed\n",
    " - temperature\n",
    " - pressure\n",
    " - lead time (when we want to predict wind speed)\n",
    " \n",
    "Models used:\n",
    " - data: wind speed\n",
    " - data: wind speed + temperature \n",
    " - data: wind speed + temperature + pressure\n",
    "\n",
    "Depth of data used for training: five days back since today\n",
    "\n",
    "Performance meassurements:\n",
    " - Root Mean Square Error\n",
    " - Mean Absolute Error"
   ]
  },
  {
   "cell_type": "markdown",
   "id": "b5d70a75",
   "metadata": {},
   "source": [
    "## Observations"
   ]
  },
  {
   "cell_type": "markdown",
   "id": "5e6fa4a3",
   "metadata": {},
   "source": [
    "Cosas a mejorar del paper"
   ]
  },
  {
   "cell_type": "markdown",
   "id": "06feddce",
   "metadata": {},
   "source": [
    "## ANN Code"
   ]
  },
  {
   "cell_type": "code",
   "execution_count": 8,
   "id": "7dabf5aa",
   "metadata": {},
   "outputs": [
    {
     "data": {
      "text/html": [
       "<div>\n",
       "<style scoped>\n",
       "    .dataframe tbody tr th:only-of-type {\n",
       "        vertical-align: middle;\n",
       "    }\n",
       "\n",
       "    .dataframe tbody tr th {\n",
       "        vertical-align: top;\n",
       "    }\n",
       "\n",
       "    .dataframe thead th {\n",
       "        text-align: right;\n",
       "    }\n",
       "</style>\n",
       "<table border=\"1\" class=\"dataframe\">\n",
       "  <thead>\n",
       "    <tr style=\"text-align: right;\">\n",
       "      <th></th>\n",
       "      <th>Date/Time</th>\n",
       "      <th>Wind Speed (m/s)</th>\n",
       "    </tr>\n",
       "  </thead>\n",
       "  <tbody>\n",
       "    <tr>\n",
       "      <th>0</th>\n",
       "      <td>01 01 2018 00:00</td>\n",
       "      <td>5.311336</td>\n",
       "    </tr>\n",
       "    <tr>\n",
       "      <th>1</th>\n",
       "      <td>01 01 2018 00:10</td>\n",
       "      <td>5.672167</td>\n",
       "    </tr>\n",
       "    <tr>\n",
       "      <th>2</th>\n",
       "      <td>01 01 2018 00:20</td>\n",
       "      <td>5.216037</td>\n",
       "    </tr>\n",
       "    <tr>\n",
       "      <th>3</th>\n",
       "      <td>01 01 2018 00:30</td>\n",
       "      <td>5.659674</td>\n",
       "    </tr>\n",
       "    <tr>\n",
       "      <th>4</th>\n",
       "      <td>01 01 2018 00:40</td>\n",
       "      <td>5.577941</td>\n",
       "    </tr>\n",
       "    <tr>\n",
       "      <th>...</th>\n",
       "      <td>...</td>\n",
       "      <td>...</td>\n",
       "    </tr>\n",
       "    <tr>\n",
       "      <th>50525</th>\n",
       "      <td>31 12 2018 23:10</td>\n",
       "      <td>11.404030</td>\n",
       "    </tr>\n",
       "    <tr>\n",
       "      <th>50526</th>\n",
       "      <td>31 12 2018 23:20</td>\n",
       "      <td>7.332648</td>\n",
       "    </tr>\n",
       "    <tr>\n",
       "      <th>50527</th>\n",
       "      <td>31 12 2018 23:30</td>\n",
       "      <td>8.435358</td>\n",
       "    </tr>\n",
       "    <tr>\n",
       "      <th>50528</th>\n",
       "      <td>31 12 2018 23:40</td>\n",
       "      <td>9.421366</td>\n",
       "    </tr>\n",
       "    <tr>\n",
       "      <th>50529</th>\n",
       "      <td>31 12 2018 23:50</td>\n",
       "      <td>9.979332</td>\n",
       "    </tr>\n",
       "  </tbody>\n",
       "</table>\n",
       "<p>50530 rows × 2 columns</p>\n",
       "</div>"
      ],
      "text/plain": [
       "              Date/Time  Wind Speed (m/s)\n",
       "0      01 01 2018 00:00          5.311336\n",
       "1      01 01 2018 00:10          5.672167\n",
       "2      01 01 2018 00:20          5.216037\n",
       "3      01 01 2018 00:30          5.659674\n",
       "4      01 01 2018 00:40          5.577941\n",
       "...                 ...               ...\n",
       "50525  31 12 2018 23:10         11.404030\n",
       "50526  31 12 2018 23:20          7.332648\n",
       "50527  31 12 2018 23:30          8.435358\n",
       "50528  31 12 2018 23:40          9.421366\n",
       "50529  31 12 2018 23:50          9.979332\n",
       "\n",
       "[50530 rows x 2 columns]"
      ]
     },
     "execution_count": 8,
     "metadata": {},
     "output_type": "execute_result"
    }
   ],
   "source": [
    "import pandas as pd\n",
    "\n",
    "filename = 'T1.csv'\n",
    "col_list = [\"Date/Time\", \"Wind Speed (m/s)\"]\n",
    "\n",
    "data = pd.read_csv('T1.csv', usecols=col_list)\n",
    "\n",
    "data"
   ]
  },
  {
   "cell_type": "code",
   "execution_count": 15,
   "id": "b1e810a3",
   "metadata": {},
   "outputs": [
    {
     "data": {
      "text/plain": [
       "array([5.31133604049682, 5.67216682434082, 5.21603679656982, ...,\n",
       "       8.43535804748535, 9.42136573791503, 9.97933197021484], dtype=object)"
      ]
     },
     "execution_count": 15,
     "metadata": {},
     "output_type": "execute_result"
    }
   ],
   "source": [
    "import numpy as np\n",
    "\n",
    "np_data = data.to_numpy()\n",
    "X = np_data[:,1]\n",
    "\n",
    "X\n"
   ]
  },
  {
   "cell_type": "code",
   "execution_count": 18,
   "id": "e9d4264b",
   "metadata": {},
   "outputs": [
    {
     "data": {
      "text/plain": [
       "((30318,), (20212,))"
      ]
     },
     "execution_count": 18,
     "metadata": {},
     "output_type": "execute_result"
    }
   ],
   "source": [
    "from sklearn.neural_network import MLPRegressor as reg\n",
    "from sklearn.model_selection import train_test_split\n",
    "\n",
    "X_train, X_test = train_test_split(X, test_size=0.4, shuffle=False)\n",
    "\n",
    "np.shape(X_train), np.shape(X_test)"
   ]
  },
  {
   "cell_type": "code",
   "execution_count": 1,
   "id": "6dbb0974",
   "metadata": {},
   "outputs": [
    {
     "ename": "SyntaxError",
     "evalue": "unexpected EOF while parsing (<ipython-input-1-4c938fa5a8a3>, line 7)",
     "output_type": "error",
     "traceback": [
      "\u001b[1;36m  File \u001b[1;32m\"<ipython-input-1-4c938fa5a8a3>\"\u001b[1;36m, line \u001b[1;32m7\u001b[0m\n\u001b[1;33m    \u001b[0m\n\u001b[1;37m    ^\u001b[0m\n\u001b[1;31mSyntaxError\u001b[0m\u001b[1;31m:\u001b[0m unexpected EOF while parsing\n"
     ]
    }
   ],
   "source": [
    "# m = tamaño del intervalo de tiempo para entrenar\n",
    "m = 6\n",
    "# delta = distancia de tiempo en el futuro para predecir\n",
    "delta = 30 # 5 minutos\n",
    "\n",
    "for i in range(np.shape(X_train)):\n",
    "    "
   ]
  }
 ],
 "metadata": {
  "kernelspec": {
   "display_name": "Python 3",
   "language": "python",
   "name": "python3"
  },
  "language_info": {
   "codemirror_mode": {
    "name": "ipython",
    "version": 3
   },
   "file_extension": ".py",
   "mimetype": "text/x-python",
   "name": "python",
   "nbconvert_exporter": "python",
   "pygments_lexer": "ipython3",
   "version": "3.8.8"
  }
 },
 "nbformat": 4,
 "nbformat_minor": 5
}
