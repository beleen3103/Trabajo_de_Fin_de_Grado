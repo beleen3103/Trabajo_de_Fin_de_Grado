{
 "cells": [
  {
   "cell_type": "markdown",
   "id": "57c39b7c",
   "metadata": {},
   "source": [
    "# ANN Wind Prediction"
   ]
  },
  {
   "cell_type": "markdown",
   "id": "510f5b8c",
   "metadata": {},
   "source": [
    "Paper: https://doi.org/10.1016/j.egypro.2016.12.147\n",
    "\n",
    "Time interval: short term (20 seconds)\n",
    "\n",
    "Method used: Multivariable based ANN. \n",
    "\n",
    "Data used: https://www.kaggle.com/depekha/wind-turbine-scada-dataset/data\n",
    "\n",
    "Multiple local meteorological meassurements:\n",
    " - wind speed\n",
    " - temperature\n",
    " - pressure\n",
    " - lead time (when we want to predict wind speed)\n",
    " \n",
    "Models used:\n",
    " - data: wind speed\n",
    " - data: wind speed + temperature \n",
    " - data: wind speed + temperature + pressure\n",
    "\n",
    "Depth of data used for training: five days back since today\n",
    "\n",
    "Performance meassurements:\n",
    " - Root Mean Square Error\n",
    " - Mean Absolute Error"
   ]
  },
  {
   "cell_type": "markdown",
   "id": "b5d70a75",
   "metadata": {},
   "source": [
    "## Observations"
   ]
  },
  {
   "cell_type": "markdown",
   "id": "5e6fa4a3",
   "metadata": {},
   "source": [
    "Cosas a mejorar del paper"
   ]
  },
  {
   "cell_type": "markdown",
   "id": "06feddce",
   "metadata": {},
   "source": [
    "## ANN Code"
   ]
  },
  {
   "cell_type": "markdown",
   "id": "d6e1a0de",
   "metadata": {},
   "source": [
    "### Librerías"
   ]
  },
  {
   "cell_type": "code",
   "execution_count": 38,
   "id": "df660a70",
   "metadata": {},
   "outputs": [],
   "source": [
    "import pandas as pd\n",
    "import numpy as np\n",
    "from sklearn.neural_network import MLPRegressor as reg\n",
    "from sklearn.model_selection import train_test_split"
   ]
  },
  {
   "cell_type": "markdown",
   "id": "2ff6df5c",
   "metadata": {},
   "source": [
    "### Funciones"
   ]
  },
  {
   "cell_type": "code",
   "execution_count": 42,
   "id": "8ee777fb",
   "metadata": {},
   "outputs": [],
   "source": [
    "# Formatea las variables de tal forma que las pueda admitir la ANN\n",
    "def fix_ANN_parameters(X, m, delta):\n",
    "    tam = X_train.size - delta\n",
    "    X_fixed = []\n",
    "    y_fixed = X_train[delta:]\n",
    "    for i in range(tam):\n",
    "        X_fixed = np.append(X_fixed, X[i:(i + m)])\n",
    "    X_fixed = np.reshape(X_fixed, (tam, m))\n",
    "    \n",
    "    return X_fixed, y_fixed"
   ]
  },
  {
   "cell_type": "markdown",
   "id": "9f601bef",
   "metadata": {},
   "source": [
    "### Preparamos los datos para la ANN"
   ]
  },
  {
   "cell_type": "code",
   "execution_count": 6,
   "id": "7dabf5aa",
   "metadata": {},
   "outputs": [
    {
     "data": {
      "text/html": [
       "<div>\n",
       "<style scoped>\n",
       "    .dataframe tbody tr th:only-of-type {\n",
       "        vertical-align: middle;\n",
       "    }\n",
       "\n",
       "    .dataframe tbody tr th {\n",
       "        vertical-align: top;\n",
       "    }\n",
       "\n",
       "    .dataframe thead th {\n",
       "        text-align: right;\n",
       "    }\n",
       "</style>\n",
       "<table border=\"1\" class=\"dataframe\">\n",
       "  <thead>\n",
       "    <tr style=\"text-align: right;\">\n",
       "      <th></th>\n",
       "      <th>Date/Time</th>\n",
       "      <th>Wind Speed (m/s)</th>\n",
       "    </tr>\n",
       "  </thead>\n",
       "  <tbody>\n",
       "    <tr>\n",
       "      <th>0</th>\n",
       "      <td>01 01 2018 00:00</td>\n",
       "      <td>5.311336</td>\n",
       "    </tr>\n",
       "    <tr>\n",
       "      <th>1</th>\n",
       "      <td>01 01 2018 00:10</td>\n",
       "      <td>5.672167</td>\n",
       "    </tr>\n",
       "    <tr>\n",
       "      <th>2</th>\n",
       "      <td>01 01 2018 00:20</td>\n",
       "      <td>5.216037</td>\n",
       "    </tr>\n",
       "    <tr>\n",
       "      <th>3</th>\n",
       "      <td>01 01 2018 00:30</td>\n",
       "      <td>5.659674</td>\n",
       "    </tr>\n",
       "    <tr>\n",
       "      <th>4</th>\n",
       "      <td>01 01 2018 00:40</td>\n",
       "      <td>5.577941</td>\n",
       "    </tr>\n",
       "    <tr>\n",
       "      <th>...</th>\n",
       "      <td>...</td>\n",
       "      <td>...</td>\n",
       "    </tr>\n",
       "    <tr>\n",
       "      <th>50525</th>\n",
       "      <td>31 12 2018 23:10</td>\n",
       "      <td>11.404030</td>\n",
       "    </tr>\n",
       "    <tr>\n",
       "      <th>50526</th>\n",
       "      <td>31 12 2018 23:20</td>\n",
       "      <td>7.332648</td>\n",
       "    </tr>\n",
       "    <tr>\n",
       "      <th>50527</th>\n",
       "      <td>31 12 2018 23:30</td>\n",
       "      <td>8.435358</td>\n",
       "    </tr>\n",
       "    <tr>\n",
       "      <th>50528</th>\n",
       "      <td>31 12 2018 23:40</td>\n",
       "      <td>9.421366</td>\n",
       "    </tr>\n",
       "    <tr>\n",
       "      <th>50529</th>\n",
       "      <td>31 12 2018 23:50</td>\n",
       "      <td>9.979332</td>\n",
       "    </tr>\n",
       "  </tbody>\n",
       "</table>\n",
       "<p>50530 rows × 2 columns</p>\n",
       "</div>"
      ],
      "text/plain": [
       "              Date/Time  Wind Speed (m/s)\n",
       "0      01 01 2018 00:00          5.311336\n",
       "1      01 01 2018 00:10          5.672167\n",
       "2      01 01 2018 00:20          5.216037\n",
       "3      01 01 2018 00:30          5.659674\n",
       "4      01 01 2018 00:40          5.577941\n",
       "...                 ...               ...\n",
       "50525  31 12 2018 23:10         11.404030\n",
       "50526  31 12 2018 23:20          7.332648\n",
       "50527  31 12 2018 23:30          8.435358\n",
       "50528  31 12 2018 23:40          9.421366\n",
       "50529  31 12 2018 23:50          9.979332\n",
       "\n",
       "[50530 rows x 2 columns]"
      ]
     },
     "execution_count": 6,
     "metadata": {},
     "output_type": "execute_result"
    }
   ],
   "source": [
    "# Extraemos los datos del .csv\n",
    "filename = 'T1.csv'\n",
    "col_list = [\"Date/Time\", \"Wind Speed (m/s)\"]\n",
    "data = pd.read_csv('T1.csv', usecols=col_list)\n",
    "\n",
    "data"
   ]
  },
  {
   "cell_type": "code",
   "execution_count": 7,
   "id": "b1e810a3",
   "metadata": {},
   "outputs": [
    {
     "data": {
      "text/plain": [
       "array([5.31133604049682, 5.67216682434082, 5.21603679656982, ...,\n",
       "       8.43535804748535, 9.42136573791503, 9.97933197021484], dtype=object)"
      ]
     },
     "execution_count": 7,
     "metadata": {},
     "output_type": "execute_result"
    }
   ],
   "source": [
    "# Ahora obtenemos el parámetro que necesitemos; en este caso, la wind speed. Ésta será nuestra variable X\n",
    "np_data = data.to_numpy()\n",
    "X = np_data[:,1]\n",
    "\n",
    "X"
   ]
  },
  {
   "cell_type": "code",
   "execution_count": 8,
   "id": "e9d4264b",
   "metadata": {},
   "outputs": [
    {
     "data": {
      "text/plain": [
       "((30318,), (20212,))"
      ]
     },
     "execution_count": 8,
     "metadata": {},
     "output_type": "execute_result"
    }
   ],
   "source": [
    "# A continuación, dividimos los datos en un dataset para entrenar la ANN y en otro para probar su rendimiento\n",
    "X_train, X_test = train_test_split(X, test_size=0.4, shuffle=False)\n",
    "\n",
    "np.shape(X_train), np.shape(X_test)"
   ]
  },
  {
   "cell_type": "markdown",
   "id": "00f5a9f1",
   "metadata": {},
   "source": [
    "### Entrenamos la ANN"
   ]
  },
  {
   "cell_type": "code",
   "execution_count": 43,
   "id": "6dbb0974",
   "metadata": {},
   "outputs": [
    {
     "data": {
      "text/plain": [
       "((30288, 6), (30288,))"
      ]
     },
     "execution_count": 43,
     "metadata": {},
     "output_type": "execute_result"
    }
   ],
   "source": [
    "# Antes de empezar, tenemos que escoger el tamaño de muestra m con el que queremos entrenar nuestra ANN.\n",
    "# En este caso, hemos escogido un tamaño de muestra = 6, que se traduce en 1 minuto\n",
    "m = 6\n",
    "# A continuación, para seleccionar correctamente nuestra variable y tenemos que decidir para dentro de cuanto\n",
    "# tiempo queremos predecir la velocidad del tiempo; es decir, delta. Para ese entrenamiento, hemos escogido una\n",
    "# delta = 30 o, lo que es lo mismo, 5 minutos\n",
    "delta = 30\n",
    "\n",
    "# Ahora es el turno de darle una forma a nuestras variables X e y que admita la ANN\n",
    "X_fixed, y_fixed = fix_ANN_parameters(X_train, m, delta)\n",
    "\n",
    "np.shape(X_fixed),np.shape(y_fixed)"
   ]
  },
  {
   "cell_type": "code",
   "execution_count": 49,
   "id": "d144c7fa",
   "metadata": {},
   "outputs": [
    {
     "data": {
      "text/plain": [
       "(array([5.4453934]), 6.95363092422485)"
      ]
     },
     "execution_count": 49,
     "metadata": {},
     "output_type": "execute_result"
    }
   ],
   "source": [
    "# Entrenemos la ANN\n",
    "regr = reg(random_state=1,shuffle = False, max_iter=500).fit(X_fixed, y_fixed)\n",
    "\n",
    "# Veamos que tal funciona\n",
    "regr.predict(X_fixed[:1]), y_fixed[1]"
   ]
  },
  {
   "cell_type": "markdown",
   "id": "f8f251ed",
   "metadata": {},
   "source": [
    "### Probamos la ANN"
   ]
  },
  {
   "cell_type": "code",
   "execution_count": null,
   "id": "b31a6651",
   "metadata": {},
   "outputs": [],
   "source": []
  }
 ],
 "metadata": {
  "kernelspec": {
   "display_name": "Python 3 (ipykernel)",
   "language": "python",
   "name": "python3"
  },
  "language_info": {
   "codemirror_mode": {
    "name": "ipython",
    "version": 3
   },
   "file_extension": ".py",
   "mimetype": "text/x-python",
   "name": "python",
   "nbconvert_exporter": "python",
   "pygments_lexer": "ipython3",
   "version": "3.8.8"
  }
 },
 "nbformat": 4,
 "nbformat_minor": 5
}
