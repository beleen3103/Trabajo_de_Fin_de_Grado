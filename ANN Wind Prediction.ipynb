{
 "cells": [
  {
   "cell_type": "markdown",
   "id": "57c39b7c",
   "metadata": {},
   "source": [
    "# ANN Wind Prediction"
   ]
  },
  {
   "cell_type": "markdown",
   "id": "510f5b8c",
   "metadata": {},
   "source": [
    "Paper: https://doi.org/10.1016/j.egypro.2016.12.147\n",
    "\n",
    "Time interval: short term (20 seconds)\n",
    "\n",
    "Method used: Multivariable based ANN. \n",
    "\n",
    "Data used: https://www.kaggle.com/depekha/wind-turbine-scada-dataset\n",
    "\n",
    "Multiple local meteorological meassurements:\n",
    " - wind speed\n",
    " - temperature\n",
    " - pressure\n",
    " - lead time (when we want to predict wind speed)\n",
    " \n",
    "Models used:\n",
    " - data: wind speed\n",
    " - data: wind speed + temperature \n",
    " - data: wind speed + temperature + pressure\n",
    "\n",
    "Depth of data used for training: five days back since today\n",
    "\n",
    "Performance meassurements:\n",
    " - Root Mean Square Error\n",
    " - Mean Absolute Error"
   ]
  },
  {
   "cell_type": "markdown",
   "id": "b5d70a75",
   "metadata": {},
   "source": [
    "## Observations"
   ]
  },
  {
   "cell_type": "markdown",
   "id": "5e6fa4a3",
   "metadata": {},
   "source": []
  }
 ],
 "metadata": {
  "kernelspec": {
   "display_name": "Python 3 (ipykernel)",
   "language": "python",
   "name": "python3"
  },
  "language_info": {
   "codemirror_mode": {
    "name": "ipython",
    "version": 3
   },
   "file_extension": ".py",
   "mimetype": "text/x-python",
   "name": "python",
   "nbconvert_exporter": "python",
   "pygments_lexer": "ipython3",
   "version": "3.8.8"
  }
 },
 "nbformat": 4,
 "nbformat_minor": 5
}
