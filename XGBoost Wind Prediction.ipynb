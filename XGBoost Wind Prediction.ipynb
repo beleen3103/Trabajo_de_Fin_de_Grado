{
 "cells": [
  {
   "cell_type": "markdown",
   "id": "57c39b7c",
   "metadata": {},
   "source": [
    "# XGBoost Wind Prediction"
   ]
  },
  {
   "cell_type": "markdown",
   "id": "510f5b8c",
   "metadata": {},
   "source": [
    "Paper: https://doi.org/10.1016/j.egypro.2016.12.147\n",
    "\n",
    "Time interval: short term (20 seconds)\n",
    "\n",
    "Method used: Multivariable based ANN. \n",
    "\n",
    "Data used: https://www.kaggle.com/depekha/wind-turbine-scada-dataset/data\n",
    "\n",
    "Multiple local meteorological meassurements:\n",
    " - wind speed\n",
    " - temperature\n",
    " - pressure\n",
    " - lead time (when we want to predict wind speed)\n",
    " \n",
    "Models used:\n",
    " - data: wind speed\n",
    " - data: wind speed + temperature \n",
    " - data: wind speed + temperature + pressure\n",
    "\n",
    "Depth of data used for training: five days back since today\n",
    "\n",
    "Performance meassurements:\n",
    " - Root Mean Square Error\n",
    " - Mean Absolute Error"
   ]
  },
  {
   "cell_type": "markdown",
   "id": "b5d70a75",
   "metadata": {},
   "source": [
    "## Observations"
   ]
  },
  {
   "cell_type": "markdown",
   "id": "5e6fa4a3",
   "metadata": {},
   "source": [
    "Cosas a mejorar del paper"
   ]
  },
  {
   "cell_type": "markdown",
   "id": "06feddce",
   "metadata": {},
   "source": [
    "## Código"
   ]
  },
  {
   "cell_type": "markdown",
   "id": "d6e1a0de",
   "metadata": {},
   "source": [
    "### Librerías"
   ]
  },
  {
   "cell_type": "code",
   "execution_count": 1,
   "id": "df660a70",
   "metadata": {},
   "outputs": [],
   "source": [
    "import pandas as pd\n",
    "import numpy as np\n",
    "import xgboost as xgb\n",
    "from sklearn.neural_network import MLPRegressor as reg\n",
    "from sklearn.model_selection import train_test_split\n",
    "from sklearn.metrics import mean_squared_error as rmse\n",
    "from sklearn .metrics import mean_absolute_error as mae"
   ]
  },
  {
   "cell_type": "markdown",
   "id": "2ff6df5c",
   "metadata": {},
   "source": [
    "### Funciones"
   ]
  },
  {
   "cell_type": "code",
   "execution_count": 2,
   "id": "8ee777fb",
   "metadata": {},
   "outputs": [],
   "source": [
    "# Formatea las variables de tal forma que las pueda admitir la ANN\n",
    "def fix_ANN_parameters(X, m, delta):\n",
    "    tam = X.size - delta\n",
    "    X_fixed = []\n",
    "    y_fixed = X[delta:]\n",
    "    for i in range(tam):\n",
    "        X_fixed = np.append(X_fixed, X[i:(i + m)])\n",
    "    X_fixed = np.reshape(X_fixed, (tam, m))\n",
    "    \n",
    "    return X_fixed, y_fixed"
   ]
  },
  {
   "cell_type": "markdown",
   "id": "9f601bef",
   "metadata": {},
   "source": [
    "### Preparamos los datos "
   ]
  },
  {
   "cell_type": "code",
   "execution_count": 3,
   "id": "7dabf5aa",
   "metadata": {},
   "outputs": [
    {
     "data": {
      "text/html": [
       "<div>\n",
       "<style scoped>\n",
       "    .dataframe tbody tr th:only-of-type {\n",
       "        vertical-align: middle;\n",
       "    }\n",
       "\n",
       "    .dataframe tbody tr th {\n",
       "        vertical-align: top;\n",
       "    }\n",
       "\n",
       "    .dataframe thead th {\n",
       "        text-align: right;\n",
       "    }\n",
       "</style>\n",
       "<table border=\"1\" class=\"dataframe\">\n",
       "  <thead>\n",
       "    <tr style=\"text-align: right;\">\n",
       "      <th></th>\n",
       "      <th>Date/Time</th>\n",
       "      <th>Wind Speed (m/s)</th>\n",
       "    </tr>\n",
       "  </thead>\n",
       "  <tbody>\n",
       "    <tr>\n",
       "      <th>0</th>\n",
       "      <td>01 01 2018 00:00</td>\n",
       "      <td>5.311336</td>\n",
       "    </tr>\n",
       "    <tr>\n",
       "      <th>1</th>\n",
       "      <td>01 01 2018 00:10</td>\n",
       "      <td>5.672167</td>\n",
       "    </tr>\n",
       "    <tr>\n",
       "      <th>2</th>\n",
       "      <td>01 01 2018 00:20</td>\n",
       "      <td>5.216037</td>\n",
       "    </tr>\n",
       "    <tr>\n",
       "      <th>3</th>\n",
       "      <td>01 01 2018 00:30</td>\n",
       "      <td>5.659674</td>\n",
       "    </tr>\n",
       "    <tr>\n",
       "      <th>4</th>\n",
       "      <td>01 01 2018 00:40</td>\n",
       "      <td>5.577941</td>\n",
       "    </tr>\n",
       "    <tr>\n",
       "      <th>...</th>\n",
       "      <td>...</td>\n",
       "      <td>...</td>\n",
       "    </tr>\n",
       "    <tr>\n",
       "      <th>50525</th>\n",
       "      <td>31 12 2018 23:10</td>\n",
       "      <td>11.404030</td>\n",
       "    </tr>\n",
       "    <tr>\n",
       "      <th>50526</th>\n",
       "      <td>31 12 2018 23:20</td>\n",
       "      <td>7.332648</td>\n",
       "    </tr>\n",
       "    <tr>\n",
       "      <th>50527</th>\n",
       "      <td>31 12 2018 23:30</td>\n",
       "      <td>8.435358</td>\n",
       "    </tr>\n",
       "    <tr>\n",
       "      <th>50528</th>\n",
       "      <td>31 12 2018 23:40</td>\n",
       "      <td>9.421366</td>\n",
       "    </tr>\n",
       "    <tr>\n",
       "      <th>50529</th>\n",
       "      <td>31 12 2018 23:50</td>\n",
       "      <td>9.979332</td>\n",
       "    </tr>\n",
       "  </tbody>\n",
       "</table>\n",
       "<p>50530 rows × 2 columns</p>\n",
       "</div>"
      ],
      "text/plain": [
       "              Date/Time  Wind Speed (m/s)\n",
       "0      01 01 2018 00:00          5.311336\n",
       "1      01 01 2018 00:10          5.672167\n",
       "2      01 01 2018 00:20          5.216037\n",
       "3      01 01 2018 00:30          5.659674\n",
       "4      01 01 2018 00:40          5.577941\n",
       "...                 ...               ...\n",
       "50525  31 12 2018 23:10         11.404030\n",
       "50526  31 12 2018 23:20          7.332648\n",
       "50527  31 12 2018 23:30          8.435358\n",
       "50528  31 12 2018 23:40          9.421366\n",
       "50529  31 12 2018 23:50          9.979332\n",
       "\n",
       "[50530 rows x 2 columns]"
      ]
     },
     "execution_count": 3,
     "metadata": {},
     "output_type": "execute_result"
    }
   ],
   "source": [
    "# Extraemos los datos del .csv\n",
    "filename = 'T1.csv'\n",
    "col_list = [\"Date/Time\", \"Wind Speed (m/s)\"]\n",
    "data = pd.read_csv('T1.csv', usecols=col_list)\n",
    "\n",
    "data"
   ]
  },
  {
   "cell_type": "code",
   "execution_count": 4,
   "id": "b1e810a3",
   "metadata": {},
   "outputs": [
    {
     "data": {
      "text/plain": [
       "array([5.31133604049682, 5.67216682434082, 5.21603679656982, ...,\n",
       "       8.43535804748535, 9.42136573791503, 9.97933197021484], dtype=object)"
      ]
     },
     "execution_count": 4,
     "metadata": {},
     "output_type": "execute_result"
    }
   ],
   "source": [
    "# Ahora obtenemos el parámetro que necesitemos; en este caso, la wind speed. Ésta será nuestra variable X\n",
    "np_data = data.to_numpy()\n",
    "X = np_data[:,1]\n",
    "\n",
    "X"
   ]
  },
  {
   "cell_type": "code",
   "execution_count": 5,
   "id": "e9d4264b",
   "metadata": {},
   "outputs": [
    {
     "data": {
      "text/plain": [
       "((30318,), (20212,))"
      ]
     },
     "execution_count": 5,
     "metadata": {},
     "output_type": "execute_result"
    }
   ],
   "source": [
    "# A continuación, dividimos los datos en un dataset para entrenar la ANN y en otro para probar su rendimiento\n",
    "X_train, X_test = train_test_split(X, test_size=0.4, shuffle=False)\n",
    "\n",
    "np.shape(X_train), np.shape(X_test)"
   ]
  },
  {
   "cell_type": "code",
   "execution_count": 6,
   "id": "abb4301b",
   "metadata": {},
   "outputs": [],
   "source": [
    "# Antes de empezar, tenemos que escoger el tamaño de muestra m con el que queremos entrenar nuestra ANN, teniendo\n",
    "# en cuenta que cada muestra representa la velocidad del aire media en un intervalo de 10 minutos\n",
    "m = 6 * 24 # 1 semana\n",
    "# A continuación, para seleccionar correctamente nuestra variable y tenemos que decidir para dentro de cuanto\n",
    "# tiempo queremos predecir la velocidad del tiempo; es decir, delta. Para ese entrenamiento, hemos escogido una\n",
    "# delta = 30 o, lo que es lo mismo, 5 minutos\n",
    "delta = m + 6"
   ]
  },
  {
   "cell_type": "code",
   "execution_count": 7,
   "id": "5b1b5a4b",
   "metadata": {},
   "outputs": [],
   "source": [
    "# Damos formato a los datos de entrenamiento\n",
    "X_train_fixed, y_train_fixed = fix_ANN_parameters(X_train, m, delta)\n",
    "\n",
    "np.shape(X_train_fixed),np.shape(y_train_fixed)\n",
    "\n",
    "dtrain  = xgb.DMatrix(X_train_fixed, label=y_train_fixed)"
   ]
  },
  {
   "cell_type": "code",
   "execution_count": 8,
   "id": "4b9f03bf",
   "metadata": {},
   "outputs": [],
   "source": [
    "# Damos formato a los datos de prueba\n",
    "X_test_fixed, y_test_fixed = fix_ANN_parameters(X_test, m, delta)\n",
    "\n",
    "np.shape(X_test_fixed),np.shape(y_test_fixed)\n",
    "\n",
    "dtest = xgb.DMatrix(X_test_fixed, label=y_test_fixed)"
   ]
  },
  {
   "cell_type": "markdown",
   "id": "00f5a9f1",
   "metadata": {},
   "source": [
    "### Entrenamos la ANN"
   ]
  },
  {
   "cell_type": "code",
   "execution_count": 20,
   "id": "d144c7fa",
   "metadata": {
    "scrolled": false
   },
   "outputs": [
    {
     "name": "stdout",
     "output_type": "stream",
     "text": [
      "[0]\teval-mae:1.52421\ttrain-mae:1.57215\n",
      "[1]\teval-mae:1.48707\ttrain-mae:1.48932\n",
      "[2]\teval-mae:1.32578\ttrain-mae:1.39923\n",
      "[3]\teval-mae:1.22250\ttrain-mae:1.31360\n",
      "[4]\teval-mae:1.19085\ttrain-mae:1.26526\n",
      "[5]\teval-mae:1.19039\ttrain-mae:1.25767\n",
      "[6]\teval-mae:1.18670\ttrain-mae:1.25262\n",
      "[7]\teval-mae:1.18926\ttrain-mae:1.25032\n",
      "[8]\teval-mae:1.18983\ttrain-mae:1.24915\n",
      "[9]\teval-mae:1.19071\ttrain-mae:1.24642\n"
     ]
    },
    {
     "data": {
      "text/plain": [
       "(array([11.6225395], dtype=float32), 12.1961202621459)"
      ]
     },
     "execution_count": 20,
     "metadata": {},
     "output_type": "execute_result"
    }
   ],
   "source": [
    "# Establecemos los parametros del algoritmo\n",
    "param = {'max_depth': 2, 'eta': 1, 'eval_metric' : 'mae'}\n",
    "evallist = [(dtest, 'eval'), (dtrain, 'train')]\n",
    "num_round = 10\n",
    "# Entrenemos la ANN\n",
    "bst = xgb.train(param, dtrain, num_round, evallist)\n",
    "\n",
    "# Veamos que tal funciona\n",
    "bst.predict(xgb.DMatrix(X_train_fixed[:1])), y_train_fixed[1]"
   ]
  },
  {
   "cell_type": "code",
   "execution_count": 14,
   "id": "2eafaa92",
   "metadata": {
    "scrolled": true
   },
   "outputs": [
    {
     "data": {
      "text/plain": [
       "<AxesSubplot:title={'center':'Feature importance'}, xlabel='F score', ylabel='Features'>"
      ]
     },
     "execution_count": 14,
     "metadata": {},
     "output_type": "execute_result"
    },
    {
     "data": {
      "image/png": "[encoded data removed]",
      "text/plain": [
       "<Figure size 432x288 with 1 Axes>"
      ]
     },
     "metadata": {
      "needs_background": "light"
     },
     "output_type": "display_data"
    }
   ],
   "source": [
    "xgb.plot_importance(bst)"
   ]
  },
  {
   "cell_type": "code",
   "execution_count": 15,
   "id": "0e7f246d",
   "metadata": {},
   "outputs": [
    {
     "ename": "ImportError",
     "evalue": "You must install graphviz to plot tree",
     "output_type": "error",
     "traceback": [
      "\u001b[1;31m---------------------------------------------------------------------------\u001b[0m",
      "\u001b[1;31mModuleNotFoundError\u001b[0m                       Traceback (most recent call last)",
      "\u001b[1;32m~\\anaconda3\\lib\\site-packages\\xgboost\\plotting.py\u001b[0m in \u001b[0;36mto_graphviz\u001b[1;34m(booster, fmap, num_trees, rankdir, yes_color, no_color, condition_node_params, leaf_node_params, **kwargs)\u001b[0m\n\u001b[0;32m    170\u001b[0m     \u001b[1;32mtry\u001b[0m\u001b[1;33m:\u001b[0m\u001b[1;33m\u001b[0m\u001b[1;33m\u001b[0m\u001b[0m\n\u001b[1;32m--> 171\u001b[1;33m         \u001b[1;32mfrom\u001b[0m \u001b[0mgraphviz\u001b[0m \u001b[1;32mimport\u001b[0m \u001b[0mSource\u001b[0m\u001b[1;33m\u001b[0m\u001b[1;33m\u001b[0m\u001b[0m\n\u001b[0m\u001b[0;32m    172\u001b[0m     \u001b[1;32mexcept\u001b[0m \u001b[0mImportError\u001b[0m \u001b[1;32mas\u001b[0m \u001b[0me\u001b[0m\u001b[1;33m:\u001b[0m\u001b[1;33m\u001b[0m\u001b[1;33m\u001b[0m\u001b[0m\n",
      "\u001b[1;31mModuleNotFoundError\u001b[0m: No module named 'graphviz'",
      "\nThe above exception was the direct cause of the following exception:\n",
      "\u001b[1;31mImportError\u001b[0m                               Traceback (most recent call last)",
      "\u001b[1;32m<ipython-input-15-f6ad5ba49263>\u001b[0m in \u001b[0;36m<module>\u001b[1;34m\u001b[0m\n\u001b[1;32m----> 1\u001b[1;33m \u001b[0mxgb\u001b[0m\u001b[1;33m.\u001b[0m\u001b[0mplot_tree\u001b[0m\u001b[1;33m(\u001b[0m\u001b[0mbst\u001b[0m\u001b[1;33m,\u001b[0m \u001b[0mnum_trees\u001b[0m\u001b[1;33m=\u001b[0m\u001b[1;36m2\u001b[0m\u001b[1;33m)\u001b[0m\u001b[1;33m\u001b[0m\u001b[1;33m\u001b[0m\u001b[0m\n\u001b[0m",
      "\u001b[1;32m~\\anaconda3\\lib\\site-packages\\xgboost\\plotting.py\u001b[0m in \u001b[0;36mplot_tree\u001b[1;34m(booster, fmap, num_trees, rankdir, ax, **kwargs)\u001b[0m\n\u001b[0;32m    245\u001b[0m         \u001b[0m_\u001b[0m\u001b[1;33m,\u001b[0m \u001b[0max\u001b[0m \u001b[1;33m=\u001b[0m \u001b[0mplt\u001b[0m\u001b[1;33m.\u001b[0m\u001b[0msubplots\u001b[0m\u001b[1;33m(\u001b[0m\u001b[1;36m1\u001b[0m\u001b[1;33m,\u001b[0m \u001b[1;36m1\u001b[0m\u001b[1;33m)\u001b[0m\u001b[1;33m\u001b[0m\u001b[1;33m\u001b[0m\u001b[0m\n\u001b[0;32m    246\u001b[0m \u001b[1;33m\u001b[0m\u001b[0m\n\u001b[1;32m--> 247\u001b[1;33m     g = to_graphviz(booster, fmap=fmap, num_trees=num_trees, rankdir=rankdir,\n\u001b[0m\u001b[0;32m    248\u001b[0m                     **kwargs)\n\u001b[0;32m    249\u001b[0m \u001b[1;33m\u001b[0m\u001b[0m\n",
      "\u001b[1;32m~\\anaconda3\\lib\\site-packages\\xgboost\\plotting.py\u001b[0m in \u001b[0;36mto_graphviz\u001b[1;34m(booster, fmap, num_trees, rankdir, yes_color, no_color, condition_node_params, leaf_node_params, **kwargs)\u001b[0m\n\u001b[0;32m    171\u001b[0m         \u001b[1;32mfrom\u001b[0m \u001b[0mgraphviz\u001b[0m \u001b[1;32mimport\u001b[0m \u001b[0mSource\u001b[0m\u001b[1;33m\u001b[0m\u001b[1;33m\u001b[0m\u001b[0m\n\u001b[0;32m    172\u001b[0m     \u001b[1;32mexcept\u001b[0m \u001b[0mImportError\u001b[0m \u001b[1;32mas\u001b[0m \u001b[0me\u001b[0m\u001b[1;33m:\u001b[0m\u001b[1;33m\u001b[0m\u001b[1;33m\u001b[0m\u001b[0m\n\u001b[1;32m--> 173\u001b[1;33m         \u001b[1;32mraise\u001b[0m \u001b[0mImportError\u001b[0m\u001b[1;33m(\u001b[0m\u001b[1;34m'You must install graphviz to plot tree'\u001b[0m\u001b[1;33m)\u001b[0m \u001b[1;32mfrom\u001b[0m \u001b[0me\u001b[0m\u001b[1;33m\u001b[0m\u001b[1;33m\u001b[0m\u001b[0m\n\u001b[0m\u001b[0;32m    174\u001b[0m     \u001b[1;32mif\u001b[0m \u001b[0misinstance\u001b[0m\u001b[1;33m(\u001b[0m\u001b[0mbooster\u001b[0m\u001b[1;33m,\u001b[0m \u001b[0mXGBModel\u001b[0m\u001b[1;33m)\u001b[0m\u001b[1;33m:\u001b[0m\u001b[1;33m\u001b[0m\u001b[1;33m\u001b[0m\u001b[0m\n\u001b[0;32m    175\u001b[0m         \u001b[0mbooster\u001b[0m \u001b[1;33m=\u001b[0m \u001b[0mbooster\u001b[0m\u001b[1;33m.\u001b[0m\u001b[0mget_booster\u001b[0m\u001b[1;33m(\u001b[0m\u001b[1;33m)\u001b[0m\u001b[1;33m\u001b[0m\u001b[1;33m\u001b[0m\u001b[0m\n",
      "\u001b[1;31mImportError\u001b[0m: You must install graphviz to plot tree"
     ]
    },
    {
     "data": {
      "image/png": "[encoded data removed]",
      "text/plain": [
       "<Figure size 432x288 with 1 Axes>"
      ]
     },
     "metadata": {
      "needs_background": "light"
     },
     "output_type": "display_data"
    }
   ],
   "source": [
    "xgb.plot_tree(bst, num_trees=2)"
   ]
  },
  {
   "cell_type": "code",
   "execution_count": null,
   "id": "3bf8e1ba",
   "metadata": {},
   "outputs": [],
   "source": []
  },
  {
   "cell_type": "markdown",
   "id": "f8f251ed",
   "metadata": {},
   "source": [
    "### Probamos la ANN"
   ]
  },
  {
   "cell_type": "markdown",
   "id": "f108e326",
   "metadata": {},
   "source": [
    "### Aplicamos las medidas de rendimiento "
   ]
  },
  {
   "cell_type": "markdown",
   "id": "5545aa82",
   "metadata": {},
   "source": [
    "En este caso, dichas medidas son la root mean square error (RMSE) y la mean absolute error (MAE)"
   ]
  },
  {
   "cell_type": "markdown",
   "id": "b9f61f7b",
   "metadata": {},
   "source": [
    "#### Root Mean Square Error"
   ]
  },
  {
   "cell_type": "code",
   "execution_count": 10,
   "id": "04bc0666",
   "metadata": {},
   "outputs": [],
   "source": [
    "#rmse(y_test_fixed, y_test_predicted, squared= False)"
   ]
  },
  {
   "cell_type": "code",
   "execution_count": 11,
   "id": "05176b6d",
   "metadata": {},
   "outputs": [],
   "source": [
    "#mae(y_test_fixed, y_test_predicted)"
   ]
  }
 ],
 "metadata": {
  "kernelspec": {
   "display_name": "Python 3",
   "language": "python",
   "name": "python3"
  },
  "language_info": {
   "codemirror_mode": {
    "name": "ipython",
    "version": 3
   },
   "file_extension": ".py",
   "mimetype": "text/x-python",
   "name": "python",
   "nbconvert_exporter": "python",
   "pygments_lexer": "ipython3",
   "version": "3.8.8"
  }
 },
 "nbformat": 4,
 "nbformat_minor": 5
}
